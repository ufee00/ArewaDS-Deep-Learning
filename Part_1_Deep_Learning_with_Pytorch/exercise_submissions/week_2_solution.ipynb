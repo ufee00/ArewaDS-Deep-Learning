{
  "cells": [
    {
      "cell_type": "markdown",
      "metadata": {},
      "source": [
        "## Arewa Data Science Academy\n",
        "### Deep Learning Cohort2.0\n",
        "\n",
        "#### Name: Umar Faruk Ibrahim\n",
        "#### Email: ibrahimumarfaruk2000@gmail.com\n",
        "#### Title: Week 2 Solution"
      ]
    },
    {
      "cell_type": "markdown",
      "metadata": {},
      "source": [
        "# 01. Pytorch Workflow Fundamentals Exercise"
      ]
    },
    {
      "cell_type": "markdown",
      "metadata": {
        "id": "SF_rfv21KW7r"
      },
      "source": [
        "## 1. Create a straight line dataset using the linear regression formula (weight * X + bias).\n",
        "* Set weight=0.3 and bias=0.9 there should be at least 100 datapoints total."
      ]
    },
    {
      "cell_type": "code",
      "execution_count": 1,
      "metadata": {
        "colab": {
          "base_uri": "https://localhost:8080/"
        },
        "id": "mpyJTmupKNOU",
        "outputId": "59a24e1d-02d0-4e66-a16b-f66dd48e7447"
      },
      "outputs": [
        {
          "data": {
            "text/plain": [
              "(torch.Size([100, 1]), torch.Size([100, 1]))"
            ]
          },
          "execution_count": 1,
          "metadata": {},
          "output_type": "execute_result"
        }
      ],
      "source": [
        "import torch\n",
        "\n",
        "weight = 0.3\n",
        "bias = 0.9\n",
        "start, end, step = 0, 2, 0.02\n",
        "X = torch.arange(start, end, step).unsqueeze(dim=1)\n",
        "y = weight * X + bias\n",
        "\n",
        "X.shape, y.shape"
      ]
    },
    {
      "cell_type": "code",
      "execution_count": 2,
      "metadata": {
        "colab": {
          "base_uri": "https://localhost:8080/"
        },
        "id": "BFKAXmkBN1X9",
        "outputId": "32000047-0000-4156-8c8a-b4d5ff68c5dd"
      },
      "outputs": [
        {
          "data": {
            "text/plain": [
              "(tensor([[0.0000],\n",
              "         [0.0200],\n",
              "         [0.0400],\n",
              "         [0.0600],\n",
              "         [0.0800],\n",
              "         [0.1000],\n",
              "         [0.1200],\n",
              "         [0.1400],\n",
              "         [0.1600],\n",
              "         [0.1800]]),\n",
              " tensor([[0.9000],\n",
              "         [0.9060],\n",
              "         [0.9120],\n",
              "         [0.9180],\n",
              "         [0.9240],\n",
              "         [0.9300],\n",
              "         [0.9360],\n",
              "         [0.9420],\n",
              "         [0.9480],\n",
              "         [0.9540]]))"
            ]
          },
          "execution_count": 2,
          "metadata": {},
          "output_type": "execute_result"
        }
      ],
      "source": [
        "X[:10], y[:10]"
      ]
    },
    {
      "cell_type": "markdown",
      "metadata": {
        "id": "x1OV-l3VNRLK"
      },
      "source": [
        "* Split the data into 80% training, 20% testing."
      ]
    },
    {
      "cell_type": "code",
      "execution_count": 3,
      "metadata": {
        "colab": {
          "base_uri": "https://localhost:8080/"
        },
        "id": "LvtPTq49NO0t",
        "outputId": "9c51e7e3-722e-4ee4-ba1f-6ff6d9395d01"
      },
      "outputs": [
        {
          "data": {
            "text/plain": [
              "(80, 80, 20, 20)"
            ]
          },
          "execution_count": 3,
          "metadata": {},
          "output_type": "execute_result"
        }
      ],
      "source": [
        "train_split = int(0.8 * len(X))\n",
        "X_train, y_train = X[:train_split], y[:train_split]\n",
        "X_test, y_test = X[train_split:], y[train_split:]\n",
        "\n",
        "len(X_train), len(y_train), len(X_test), len(y_test)"
      ]
    },
    {
      "cell_type": "markdown",
      "metadata": {
        "id": "7-sqluU2NZyd"
      },
      "source": [
        "* Plot the training and testing data so it becomes visual."
      ]
    },
    {
      "cell_type": "code",
      "execution_count": 4,
      "metadata": {
        "colab": {
          "base_uri": "https://localhost:8080/",
          "height": 599
        },
        "id": "saPragQDNci1",
        "outputId": "2961babe-04e9-4eaf-86a0-de64af1f5374"
      },
      "outputs": [
        {
          "data": {
            "image/png": "[encoded data removed]",
            "text/plain": [
              "<Figure size 1000x700 with 1 Axes>"
            ]
          },
          "metadata": {},
          "output_type": "display_data"
        }
      ],
      "source": [
        "import matplotlib.pyplot as plt\n",
        "\n",
        "plt.figure(figsize=(10, 7))\n",
        "\n",
        "plt.scatter(X_train, y_train, c=\"b\", s=4, label=\"Training data\")\n",
        "plt.scatter(X_test, y_test, c=\"g\", s=4, label=\"Testing data\")\n",
        "\n",
        "plt.legend(prop={\"size\": 12})\n",
        "plt.show()"
      ]
    },
    {
      "cell_type": "markdown",
      "metadata": {
        "id": "qMZnnS4WOsbF"
      },
      "source": [
        "## 2. Build a PyTorch model by subclassing nn.Module.\n",
        "* Inside should be a randomly initialized nn.Parameter() with requires_grad=True, one for weights and one for bias.\n",
        "* Implement the forward() method to compute the linear regression function you used to create the dataset in 1."
      ]
    },
    {
      "cell_type": "code",
      "execution_count": 5,
      "metadata": {
        "id": "K4rRJZNqOieM"
      },
      "outputs": [],
      "source": [
        "from torch import nn\n",
        "class MyLinearRegressionModel(nn.Module):\n",
        "  def __init__(self):\n",
        "    super().__init__()\n",
        "    self.weight = nn.Parameter(torch.randn(1, requires_grad=True, dtype=torch.float))\n",
        "    self.bias = nn.Parameter(torch.randn(1, requires_grad=True, dtype=torch.float))\n",
        "\n",
        "  def forward(self, x: torch.Tensor) -> torch.Tensor:\n",
        "    return self.weight * x + self.bias"
      ]
    },
    {
      "cell_type": "markdown",
      "metadata": {
        "id": "msF9jpk-DEM-"
      },
      "source": [
        "* Once you've constructed the model, make an instance of it and check its state_dict()."
      ]
    },
    {
      "cell_type": "code",
      "execution_count": 6,
      "metadata": {
        "colab": {
          "base_uri": "https://localhost:8080/"
        },
        "id": "zwNsxd1cRdpa",
        "outputId": "e506a404-e5b2-4459-f621-1f4ec881f806"
      },
      "outputs": [
        {
          "data": {
            "text/plain": [
              "OrderedDict([('weight', tensor([0.7560])), ('bias', tensor([0.3523]))])"
            ]
          },
          "execution_count": 6,
          "metadata": {},
          "output_type": "execute_result"
        }
      ],
      "source": [
        "model = MyLinearRegressionModel()\n",
        "model.state_dict()"
      ]
    },
    {
      "cell_type": "markdown",
      "metadata": {
        "id": "7eavgTocRrPV"
      },
      "source": [
        "## 3. Create a loss function and optimizer using nn.L1Loss() and torch.optim.SGD(params, lr) respectively.\n",
        "* Set the learning rate of the optimizer to be 0.01 and the parameters to optimize should be the model parameters from the model you created in 2."
      ]
    },
    {
      "cell_type": "code",
      "execution_count": 7,
      "metadata": {
        "id": "rOOJGQ4pRzHp"
      },
      "outputs": [],
      "source": [
        "loss_function = nn.L1Loss()\n",
        "optimizer = torch.optim.SGD(model.parameters(), lr=0.01)"
      ]
    },
    {
      "cell_type": "markdown",
      "metadata": {
        "id": "EdLb_QaASTVQ"
      },
      "source": [
        "* Write a training loop to perform the appropriate training steps for 300 epochs.\n",
        "* The training loop should test the model on the test dataset every 20 epochs."
      ]
    },
    {
      "cell_type": "code",
      "execution_count": 8,
      "metadata": {
        "id": "-z7G27XiLDqG"
      },
      "outputs": [],
      "source": [
        "device = \"cuda\" if torch.cuda.is_available() else \"cpu\"\n",
        "model.to(device)\n",
        "X_train = X_train.to(device)\n",
        "y_train = y_train.to(device)\n",
        "X_test = X_test.to(device)\n",
        "y_test = y_test.to(device)"
      ]
    },
    {
      "cell_type": "code",
      "execution_count": 9,
      "metadata": {
        "colab": {
          "base_uri": "https://localhost:8080/"
        },
        "id": "wu_MC_CnSX70",
        "outputId": "85b471a5-eed7-4f1a-ab34-907603d90877"
      },
      "outputs": [
        {
          "name": "stdout",
          "output_type": "stream",
          "text": [
            "Epoch: 0 | MAE Training Loss: 0.23052294552326202 | MAE Test Loss: 0.2760787010192871\n",
            "Epoch: 10 | MAE Training Loss: 0.21041667461395264 | MAE Test Loss: 0.2760787010192871\n",
            "Epoch: 20 | MAE Training Loss: 0.19782094657421112 | MAE Test Loss: 0.34118375182151794\n",
            "Epoch: 30 | MAE Training Loss: 0.18759886920452118 | MAE Test Loss: 0.34118375182151794\n",
            "Epoch: 40 | MAE Training Loss: 0.17812082171440125 | MAE Test Loss: 0.33813685178756714\n",
            "Epoch: 50 | MAE Training Loss: 0.16891245543956757 | MAE Test Loss: 0.33813685178756714\n",
            "Epoch: 60 | MAE Training Loss: 0.15976950526237488 | MAE Test Loss: 0.3121980130672455\n",
            "Epoch: 70 | MAE Training Loss: 0.1506364345550537 | MAE Test Loss: 0.3121980130672455\n",
            "Epoch: 80 | MAE Training Loss: 0.14154577255249023 | MAE Test Loss: 0.27944475412368774\n",
            "Epoch: 90 | MAE Training Loss: 0.1324508637189865 | MAE Test Loss: 0.27944475412368774\n",
            "Epoch: 100 | MAE Training Loss: 0.12336021661758423 | MAE Test Loss: 0.24329301714897156\n",
            "Epoch: 110 | MAE Training Loss: 0.1142653077840805 | MAE Test Loss: 0.24329301714897156\n",
            "Epoch: 120 | MAE Training Loss: 0.10517464578151703 | MAE Test Loss: 0.20714130997657776\n",
            "Epoch: 130 | MAE Training Loss: 0.09607991576194763 | MAE Test Loss: 0.20714130997657776\n",
            "Epoch: 140 | MAE Training Loss: 0.08698908239603043 | MAE Test Loss: 0.17098955810070038\n",
            "Epoch: 150 | MAE Training Loss: 0.07789512723684311 | MAE Test Loss: 0.17098955810070038\n",
            "Epoch: 160 | MAE Training Loss: 0.06880360096693039 | MAE Test Loss: 0.13483849167823792\n",
            "Epoch: 170 | MAE Training Loss: 0.05971038341522217 | MAE Test Loss: 0.13483849167823792\n",
            "Epoch: 180 | MAE Training Loss: 0.05061812326312065 | MAE Test Loss: 0.09868744760751724\n",
            "Epoch: 190 | MAE Training Loss: 0.04152563959360123 | MAE Test Loss: 0.09868744760751724\n",
            "Epoch: 200 | MAE Training Loss: 0.03243264928460121 | MAE Test Loss: 0.06253642588853836\n",
            "Epoch: 210 | MAE Training Loss: 0.023340905085206032 | MAE Test Loss: 0.06253642588853836\n",
            "Epoch: 220 | MAE Training Loss: 0.014247164130210876 | MAE Test Loss: 0.026385391131043434\n",
            "Epoch: 230 | MAE Training Loss: 0.005156166851520538 | MAE Test Loss: 0.026385391131043434\n",
            "Epoch: 240 | MAE Training Loss: 0.011370179243385792 | MAE Test Loss: 0.009348208084702492\n",
            "Epoch: 250 | MAE Training Loss: 0.011370179243385792 | MAE Test Loss: 0.009348208084702492\n",
            "Epoch: 260 | MAE Training Loss: 0.011370179243385792 | MAE Test Loss: 0.009348208084702492\n",
            "Epoch: 270 | MAE Training Loss: 0.011370179243385792 | MAE Test Loss: 0.009348208084702492\n",
            "Epoch: 280 | MAE Training Loss: 0.011370179243385792 | MAE Test Loss: 0.009348208084702492\n",
            "Epoch: 290 | MAE Training Loss: 0.011370179243385792 | MAE Test Loss: 0.009348208084702492\n"
          ]
        }
      ],
      "source": [
        "epochs = 300\n",
        "for epoch in range(epochs):\n",
        "\n",
        "  model.train()\n",
        "  y_pred = model(X_train)\n",
        "  loss = loss_function(y_pred, y_train)\n",
        "  optimizer.zero_grad()\n",
        "  loss.backward()\n",
        "  optimizer.step()\n",
        "\n",
        "  if epoch % 20 == 0:\n",
        "    model.eval()\n",
        "    with torch.inference_mode():\n",
        "      test_pred = model(X_test)\n",
        "      test_loss = loss_function(test_pred, y_test)\n",
        "\n",
        "\n",
        "  if epoch % 10 == 0:\n",
        "    print(f\"Epoch: {epoch} | MAE Training Loss: {loss.item()} | MAE Test Loss: {test_loss.item()}\")\n"
      ]
    },
    {
      "cell_type": "markdown",
      "metadata": {
        "id": "FGJONSs29hBC"
      },
      "source": [
        "## 4. Make predictions with the trained model on the test data.\n",
        "* Visualize these predictions against the original training and testing data (note: you may need to make sure the predictions are not on the GPU if you want to use non-CUDA-enabled libraries such as matplotlib to plot)."
      ]
    },
    {
      "cell_type": "code",
      "execution_count": 15,
      "metadata": {
        "colab": {
          "base_uri": "https://localhost:8080/"
        },
        "id": "kO9qsEBAD5xR",
        "outputId": "e54cc2b1-f6fe-4245-86a6-e2c033d6ca08"
      },
      "outputs": [
        {
          "data": {
            "text/plain": [
              "tensor([[1.3659],\n",
              "        [1.3718],\n",
              "        [1.3777],\n",
              "        [1.3837],\n",
              "        [1.3896],\n",
              "        [1.3955],\n",
              "        [1.4014],\n",
              "        [1.4074],\n",
              "        [1.4133],\n",
              "        [1.4192]])"
            ]
          },
          "execution_count": 15,
          "metadata": {},
          "output_type": "execute_result"
        }
      ],
      "source": [
        "model.eval()\n",
        "with torch.inference_mode():\n",
        "  y_preds = model(X_test)\n",
        "\n",
        "y_preds[:10]"
      ]
    },
    {
      "cell_type": "code",
      "execution_count": 17,
      "metadata": {
        "colab": {
          "base_uri": "https://localhost:8080/",
          "height": 430
        },
        "id": "rz8GZrVg7Mz7",
        "outputId": "e7a07e1b-76cb-4445-8658-f0f86627e686"
      },
      "outputs": [
        {
          "data": {
            "image/png": "[encoded data removed]",
            "text/plain": [
              "<Figure size 640x480 with 1 Axes>"
            ]
          },
          "metadata": {},
          "output_type": "display_data"
        }
      ],
      "source": [
        "plt.scatter(X_train.cpu(), y_train.cpu(), c=\"b\", s=4, label=\"Training data\")\n",
        "plt.scatter(X_test.cpu(), y_test.cpu(), c=\"g\", s=4, label=\"Testing data\")\n",
        "plt.scatter(X_test.cpu(), y_preds.cpu(), c=\"r\", s=4, label=\"Predictions\")\n",
        "\n",
        "plt.legend(prop={\"size\": 12})\n",
        "plt.show()"
      ]
    },
    {
      "cell_type": "markdown",
      "metadata": {
        "id": "mKkcDay9_AB4"
      },
      "source": [
        "## 5. Save your trained model's state_dict() to file."
      ]
    },
    {
      "cell_type": "code",
      "execution_count": 18,
      "metadata": {
        "colab": {
          "base_uri": "https://localhost:8080/"
        },
        "id": "t_mH5y8S_b0_",
        "outputId": "916ccafd-502c-406b-dbe0-3c52a6d82edf"
      },
      "outputs": [
        {
          "name": "stdout",
          "output_type": "stream",
          "text": [
            "Pytorch Workflow Model saving to: models/pytorch_workflow_model.pth\n"
          ]
        }
      ],
      "source": [
        "from pathlib import Path\n",
        "\n",
        "MODEL_PATH = Path(\"models\")\n",
        "MODEL_PATH.mkdir(parents=True, exist_ok=True)\n",
        "\n",
        "model_name = \"pytorch_workflow_model.pth\"\n",
        "MODEL_SAVE_PATH = MODEL_PATH / model_name\n",
        "print(f'Pytorch Workflow Model saving to: {MODEL_SAVE_PATH}')\n",
        "torch.save(obj=model.state_dict(), f=MODEL_SAVE_PATH)"
      ]
    },
    {
      "cell_type": "markdown",
      "metadata": {
        "id": "Qt7w6j9AAdrO"
      },
      "source": [
        "* Create a new instance of your model class you made in 2. and load in the state_dict() you just saved to it."
      ]
    },
    {
      "cell_type": "code",
      "execution_count": 19,
      "metadata": {
        "colab": {
          "base_uri": "https://localhost:8080/"
        },
        "id": "oD8LUMd1Ag__",
        "outputId": "fcea1c4c-4604-47a5-cc56-acff2838d4d8"
      },
      "outputs": [
        {
          "name": "stderr",
          "output_type": "stream",
          "text": [
            "<ipython-input-19-de90452bab13>:2: FutureWarning: You are using `torch.load` with `weights_only=False` (the current default value), which uses the default pickle module implicitly. It is possible to construct malicious pickle data which will execute arbitrary code during unpickling (See https://github.com/pytorch/pytorch/blob/main/SECURITY.md#untrusted-models for more details). In a future release, the default value for `weights_only` will be flipped to `True`. This limits the functions that could be executed during unpickling. Arbitrary objects will no longer be allowed to be loaded via this mode unless they are explicitly allowlisted by the user via `torch.serialization.add_safe_globals`. We recommend you start setting `weights_only=True` for any use case where you don't have full control of the loaded file. Please open an issue on GitHub for any issues related to this experimental feature.\n",
            "  new_model.load_state_dict(torch.load(f=MODEL_SAVE_PATH))\n"
          ]
        },
        {
          "data": {
            "text/plain": [
              "<All keys matched successfully>"
            ]
          },
          "execution_count": 19,
          "metadata": {},
          "output_type": "execute_result"
        }
      ],
      "source": [
        "new_model = MyLinearRegressionModel()\n",
        "new_model.load_state_dict(torch.load(f=MODEL_SAVE_PATH))"
      ]
    },
    {
      "cell_type": "markdown",
      "metadata": {
        "id": "QhKtpVUhAsrJ"
      },
      "source": [
        "* Perform predictions on your test data with the loaded model and confirm they match the original model predictions from 4."
      ]
    },
    {
      "cell_type": "code",
      "execution_count": 20,
      "metadata": {
        "colab": {
          "base_uri": "https://localhost:8080/"
        },
        "id": "ag7utFcjAtxE",
        "outputId": "f0cad5a4-dcea-4f01-9b07-3316fe608e49"
      },
      "outputs": [
        {
          "data": {
            "text/plain": [
              "tensor([[True],\n",
              "        [True],\n",
              "        [True],\n",
              "        [True],\n",
              "        [True],\n",
              "        [True],\n",
              "        [True],\n",
              "        [True],\n",
              "        [True],\n",
              "        [True],\n",
              "        [True],\n",
              "        [True],\n",
              "        [True],\n",
              "        [True],\n",
              "        [True],\n",
              "        [True],\n",
              "        [True],\n",
              "        [True],\n",
              "        [True],\n",
              "        [True]])"
            ]
          },
          "execution_count": 20,
          "metadata": {},
          "output_type": "execute_result"
        }
      ],
      "source": [
        "new_model.to(device)\n",
        "with torch.inference_mode():\n",
        "  new_model_preds = new_model(X_test)\n",
        "\n",
        "y_preds == new_model_preds"
      ]
    }
  ],
  "metadata": {
    "colab": {
      "provenance": []
    },
    "kernelspec": {
      "display_name": "Python 3",
      "name": "python3"
    },
    "language_info": {
      "name": "python"
    }
  },
  "nbformat": 4,
  "nbformat_minor": 0
}
